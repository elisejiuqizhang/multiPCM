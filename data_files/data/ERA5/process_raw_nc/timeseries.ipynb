{
 "cells": [
  {
   "cell_type": "markdown",
   "id": "44bf35be",
   "metadata": {},
   "source": [
    "Data Extraction Script Credit: Raphaël Rousseau-Rizzi\n",
    "\n",
    "Modified: Elise Zhang"
   ]
  },
  {
   "cell_type": "code",
   "execution_count": 7,
   "id": "1b910756-1f7c-4df2-ada9-1d6034dcfcc7",
   "metadata": {
    "ExecuteTime": {
     "end_time": "2023-08-14T18:39:16.332913753Z",
     "start_time": "2023-08-14T18:39:16.326640524Z"
    }
   },
   "outputs": [],
   "source": [
    "import xarray as xr\n",
    "import numpy as np\n",
    "# import glob\n",
    "# import matplotlib.pyplot as plt\n",
    "# import cartopy.crs as ccrs"
   ]
  },
  {
   "cell_type": "code",
   "execution_count": null,
   "id": "a729898c-adda-4148-a4b6-b06b072ee3f9",
   "metadata": {
    "is_executing": true
   },
   "outputs": [],
   "source": [
    "# Define bounds to (possibly) use and dictionnary for chunking the data\n",
    "# Montreal Area\n",
    "lon_bnds = [-75, -72]\n",
    "lat_bnds = [46, 43]\n",
    "area_dict = {'latitude':slice(*lat_bnds),'longitude':slice(*lon_bnds)}\n",
    "\n",
    "# Upstream quantities\n",
    "lon_bnds_up = [-78, -75]\n",
    "lat_bnds_up = [44, 41]\n",
    "area_dict_up = {'latitude':slice(*lat_bnds_up),'longitude':slice(*lon_bnds_up)}"
   ]
  },
  {
   "cell_type": "code",
   "execution_count": null,
   "id": "6f126628-ed2a-4a3e-9277-ae8487bb544c",
   "metadata": {
    "is_executing": true
   },
   "outputs": [],
   "source": [
    "# fdir = \"/home/automation/elisejzh/Desktop/elisejzh/Projects/Mine/CausalTemporalDemo/ERA5_data/process_raw_nc\"\n",
    "fdir = \"/home/automation/elisejzh/Desktop/elisejzh/Projects/Mine/CausalTemporalDemo/ERA5_data/longer_raw_nc\""
   ]
  },
  {
   "cell_type": "code",
   "execution_count": null,
   "id": "3ac32f4a",
   "metadata": {},
   "outputs": [],
   "source": [
    "# xarray visualization (mars 2024 - Raphael)\n",
    "\n",
    "# Importing\n",
    "import xarray as xr\n",
    "# Opening files and averaging for simplicity\n",
    "ds = xr.open_dataset(path_to_your_file + 'slev_2013.nc')\n",
    "ds = ds.mean(dim=('latitude','longitude')).compute()\n",
    "# Plotting\n",
    "ds['msnlwrf'].isel(time=slice(0,500)).plot.line('b')\n",
    "ds['msnlwrfcs'].isel(time=slice(0,500)).plot.line(':b')\n",
    "ds['msnswrf'].isel(time=slice(0,500)).plot.line('r')\n",
    "ds['msnswrfcs'].isel(time=slice(0,500)).plot.line(':r')\n",
    "plt.legend(['LW','LW, clear sky','Solar','Solar, clear sky'])\n",
    "plt.ylabel('Radiation [W/m**2]')\n"
   ]
  },
  {
   "cell_type": "code",
   "execution_count": null,
   "id": "85d74ea5-c04f-40da-bc6f-c7342dc77c00",
   "metadata": {
    "is_executing": true
   },
   "outputs": [],
   "source": [
    "# Define function for the computation of advection\n",
    "def compute_advection(ds_u,ds_v,ds_S): \n",
    "    a = 6371220.0*2*np.pi/360\n",
    "    lat = ds_S.latitude\n",
    "    advS = ds_v*ds_S.differentiate(coord='latitude')/a + ds_u*ds_S.differentiate(coord='longitude')/(a*np.cos(np.deg2rad(lat)))\n",
    "    return advS"
   ]
  },
  {
   "cell_type": "code",
   "execution_count": null,
   "id": "f3f04e1c-55ee-4416-b4f6-355bcff4eab0",
   "metadata": {
    "is_executing": true
   },
   "outputs": [],
   "source": [
    "fnms = ['Montreal','Upstream']\n",
    "for ii, sel_dict in enumerate([area_dict,area_dict_up]):\n",
    "\n",
    "    # Initialize timeseries\n",
    "    ds_cloud = []\n",
    "    ds_cloud_flux = []\n",
    "    # Temperature\n",
    "    ds_t2m = []\n",
    "    # Advection (still 4 levels)\n",
    "    ds_advT = []\n",
    "    # Radiation\n",
    "    ds_rad = []\n",
    "    ds_rad_cs = []\n",
    "    # Radiation - Longwave and shortwave separately\n",
    "    ds_terr_rad = []\n",
    "    ds_terr_rad_cs = []\n",
    "    ds_solar_rad = []\n",
    "    ds_solar_rad_cs = []\n",
    "\n",
    "    # Open years sequentially\n",
    "    for yy in range(2012,2022):\n",
    "        # Open datasets sequentially\n",
    "        ds = xr.open_dataset(fdir+'plev_'+str(yy)+'.nc')\n",
    "        ds2 = xr.open_dataset(fdir+'slev_'+str(yy)+'.nc')\n",
    "        # Compute advection\n",
    "        advT = compute_advection(ds['u'],ds['v'],ds['t'])\n",
    "\n",
    "        # Make timeseries\n",
    "        # Clouds\n",
    "        ds_cloud.append((ds2['tciw']+ds2['tclw']).sel(sel_dict).mean(dim=('latitude','longitude')))\n",
    "        ds_cloud_flux.append((-ds2['p80.162']-ds2['p79.162']).sel(sel_dict).mean(dim=('latitude','longitude')))\n",
    "        # Temperature\n",
    "        ds_t2m.append(ds2['t2m'].sel(sel_dict).mean(dim=('latitude','longitude')))\n",
    "        # Advection (still 4 levels)\n",
    "        ds_advT.append(-advT.sel(sel_dict).mean(dim=('latitude','longitude')).compute())\n",
    "        # Radiation - Net\n",
    "        ds_rad.append((ds2['msnlwrf'] + ds2['msnswrf']).sel(sel_dict).mean(dim=('latitude','longitude')))\n",
    "        ds_rad_cs.append((ds2['msnlwrfcs'] + ds2['msnswrfcs']).sel(sel_dict).mean(dim=('latitude','longitude')))\n",
    "        # Radiation - Longwave and shortwave separately\n",
    "        ds_terr_rad.append((ds2['msnlwrf']).sel(sel_dict).mean(dim=('latitude','longitude'))) # longwave only\n",
    "        ds_terr_rad_cs.append((ds2['msnlwrfcs']).sel(sel_dict).mean(dim=('latitude','longitude'))) # longwave only\n",
    "        ds_solar_rad.append((ds2['msnswrf']).sel(sel_dict).mean(dim=('latitude','longitude'))) # shortwave only\n",
    "        ds_solar_rad_cs.append((ds2['msnswrfcs']).sel(sel_dict).mean(dim=('latitude','longitude'))) # shortwave only\n",
    "\n",
    "    # Concatenate in time    \n",
    "    cloud = xr.concat(ds_cloud,dim='time').assign_attrs({'Long name':'Total vertically integrated cloud water','Units':'kg/m2'}).to_dataset(name='tcw')\n",
    "    cloud_flux = xr.concat(ds_cloud_flux,dim='time').assign_attrs({'Long name':'Total vertically integrated cloud water flux convergence','Units':'kg/m2/s'}).to_dataset(name='tcw_conv')\n",
    "    t2m = xr.concat(ds_t2m,dim='time').assign_attrs({'Long name':'Temperature at 2 meters','Units':'K'}).to_dataset(name='T_2m')\n",
    "    rad = xr.concat(ds_rad,dim='time').assign_attrs({'Long name':'Net surface radiative flux','Units':'W/m2'}).to_dataset(name='rad')\n",
    "    rad_cs = xr.concat(ds_rad_cs,dim='time').assign_attrs({'Long name':'Net clear-sky surface radiative flux','Units':'W/m2'}).to_dataset(name='rad_cs')\n",
    "    terr_rad = xr.concat(ds_terr_rad,dim='time').assign_attrs({'Long name':'Terrestrial longwave radiative flux','Units':'W/m2'}).to_dataset(name='terr_rad')\n",
    "    terr_rad_cs = xr.concat(ds_terr_rad_cs,dim='time').assign_attrs({'Long name':'Terrestrial longwave clear-sky radiative flux','Units':'W/m2'}).to_dataset(name='terr_rad_cs')\n",
    "    solar_rad = xr.concat(ds_solar_rad,dim='time').assign_attrs({'Long name':'Solar shortwave radiative flux','Units':'W/m2'}).to_dataset(name='solar_rad')\n",
    "    solar_rad_cs = xr.concat(ds_solar_rad_cs,dim='time').assign_attrs({'Long name':'Solar shortwave clear-sky radiative flux','Units':'W/m2'}).to_dataset(name='solar_rad_cs')\n",
    "        \n",
    "    # Expand advection terms by level to make simpler .csv conversion\n",
    "    advT_950 = xr.concat(ds_advT,dim='time').sel(level=950).assign_attrs({'Long name':'950 mb temperature advection','Units':'K/s'}).to_dataset(name='T_adv_950').drop('level')\n",
    "    advT_850 = xr.concat(ds_advT,dim='time').sel(level=850).assign_attrs({'Long name':'850 mb temperature advection','Units':'K/s'}).to_dataset(name='T_adv_850').drop('level')\n",
    "    advT_700 = xr.concat(ds_advT,dim='time').sel(level=700).assign_attrs({'Long name':'700 mb temperature advection','Units':'K/s'}).to_dataset(name='T_adv_700').drop('level')\n",
    "    advT_550 = xr.concat(ds_advT,dim='time').sel(level=550).assign_attrs({'Long name':'550 mb temperature advection','Units':'K/s'}).to_dataset(name='T_adv_550').drop('level')\n",
    "    # advT = xr.concat(ds_advT,dim='time').assign_attrs({'Long name':'Temperature advection','Units':'K/s'}).to_dataset(name='T_adv')\n",
    "\n",
    "    # Merge and save \n",
    "    ds_tmp = xr.merge([cloud,cloud_flux,t2m,advT_950,advT_850,advT_700,advT_550,rad,rad_cs, terr_rad,terr_rad_cs,solar_rad,solar_rad_cs]) \n",
    "    # Save both in netcdf and in .csv\n",
    "    ds_tmp.to_netcdf('Timeseries_'+fnms[ii]+'.nc')\n",
    "    ds_tmp.to_dataframe().to_csv('Timeseries_'+fnms[ii]+'.csv')\n"
   ]
  },
  {
   "cell_type": "code",
   "execution_count": null,
   "id": "fc7b2db7-0515-448d-8f32-13e97f31b2df",
   "metadata": {
    "is_executing": true
   },
   "outputs": [],
   "source": []
  }
 ],
 "metadata": {
  "kernelspec": {
   "display_name": "Python 3 (ipykernel)",
   "language": "python",
   "name": "python3"
  },
  "language_info": {
   "codemirror_mode": {
    "name": "ipython",
    "version": 3
   },
   "file_extension": ".py",
   "mimetype": "text/x-python",
   "name": "python",
   "nbconvert_exporter": "python",
   "pygments_lexer": "ipython3",
   "version": "3.8.16"
  }
 },
 "nbformat": 4,
 "nbformat_minor": 5
}
